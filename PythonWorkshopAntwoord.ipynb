{
  "nbformat": 4,
  "nbformat_minor": 0,
  "metadata": {
    "colab": {
      "provenance": []
    },
    "kernelspec": {
      "name": "python3",
      "display_name": "Python 3"
    },
    "language_info": {
      "name": "python"
    }
  },
  "cells": [
    {
      "cell_type": "markdown",
      "source": [
        "# Programmeren in Python \n",
        "\n",
        "## 1. Introductie \n",
        "\n",
        "In deze workshop, leer je de basisprincipes van het programmeren in Python. \n",
        "\n",
        "![python_giphy](https://media0.giphy.com/media/coxQHKASG60HrHtvkt/giphy.gif?cid=ecf05e47xhjf2n4lkkj28j9sll3azcux7tnh8ms1ngmf3uzf&rid=giphy.gif&ct=g)\n",
        "\n",
        "Python is een programeertaal ontworpen in 1989 door de Nederlandse informaticus Guido van Rossum. Het is een van de populairste programeertalen en wordt gebruikt in grote bedrijven zoals Netflix, Google en Electronic Arts voor, bijvoorbeeld, het analyseren van data, het ontwikkelen van videogames en het bouwen van webapplicaties. \n",
        "\n",
        "In de workshop, maken we gebruik van een Jupyter notebook om onze code to schrijven en te uit te voeren. Een notebook bestaat uit een collectie van 'cellen' met tekst en/of Python code. Om een stuk code uit te voeren, klik je op een cell met je cursor, daarna druk je tegelijkertijd op de Ctrl- en Enter-toets. \n",
        "\n",
        "### Leerdoelen:\n",
        "\n",
        "Aan het einde van deze workshop, ben je bekend met:\n",
        "\n",
        "- Gegevenstypes & Variabelen \n",
        "- Expressies \n",
        "- Condities \n",
        "\n",
        "__Veel success 😎 💻 🐍 !__"
      ],
      "metadata": {
        "id": "3WA3wvneYXeL"
      }
    },
    {
      "cell_type": "markdown",
      "source": [
        "## 2. Gegevenstypes & Variabelen \n",
        "\n",
        "Laten we beginnen, door een tekst \"Hello World\" te tonen in het notebook. Hiervoor gebruiken we de Python functie ```print()```: "
      ],
      "metadata": {
        "id": "ZxP8JFoR0snC"
      }
    },
    {
      "cell_type": "code",
      "source": [
        "print(\"Hello World\")"
      ],
      "metadata": {
        "colab": {
          "base_uri": "https://localhost:8080/"
        },
        "id": "g5Id0i3vxb1U",
        "outputId": "4a5aa9d5-ebe8-4dec-c390-a33f4a27a0da"
      },
      "execution_count": null,
      "outputs": [
        {
          "output_type": "stream",
          "name": "stdout",
          "text": [
            "Hello World\n"
          ]
        }
      ]
    },
    {
      "cell_type": "markdown",
      "source": [
        "Een verzameling van karakters (o.a. letters, leestekens, etc.), omsloten door aanhaleningtekens, zoals ```\"Hello World\"```, wordt in Python een ```String``` genoemd. \n",
        "\n",
        "Een ```String``` is een gegevenstype (in het Engels aangeduidt als 'data type'). Andere veelgebruikte gegevenstypes in Python zijn:\n",
        "\n",
        "- ```Boolean``` kan twee waardes aannemen: ```True``` of ```False``` (in het Nederlands aangeduidt als 'waar' of 'onwaar'). \n",
        "- ```Integer``` is een heel getal, bijvoorbeeld, ```12```, ```-3846494``` en ```0```. \n",
        "- ```Float``` is een getal met decimalen, bijvoorbeeld, ```3.564``` en ```76.2```. \n",
        "\n",
        "🔔 Gebruik een punt (```.```)  in plaats van een komma (```,```) as decimaal-scheider!\n"
      ],
      "metadata": {
        "id": "zn3slpCR0Sqg"
      }
    },
    {
      "cell_type": "code",
      "source": [
        "print(15)\n",
        "print(2.456)\n",
        "print(\"Ik ben 13 jaar oud.\")"
      ],
      "metadata": {
        "colab": {
          "base_uri": "https://localhost:8080/"
        },
        "id": "2cRyf0KS3m5A",
        "outputId": "7e817c15-7a14-4bc3-81fc-e98cde2c0f60"
      },
      "execution_count": null,
      "outputs": [
        {
          "output_type": "stream",
          "name": "stdout",
          "text": [
            "15\n",
            "2.456\n",
            "Ik ben 13 jaar oud.\n"
          ]
        }
      ]
    },
    {
      "cell_type": "markdown",
      "source": [
        "Met Python kan je gegevens, zoals cijfers of een tekst, opslaan in een soort van container, ook wel variabele genoemd. Om een variabele te creëren moet je een waarde toekennen aan een naam. Dit doe je met behulp van het is gelijk aan ```=``` teken. Aan de linkerkant van het ```=``` teken zet je de de variabele naam, aan de rechterkant van ```=``` teken zet je waarde, die je wilt opslaan. Bijvoorbeeld:"
      ],
      "metadata": {
        "id": "zdWvWBxNEh3F"
      }
    },
    {
      "cell_type": "code",
      "source": [
        "x = 3\n",
        "print(x)"
      ],
      "metadata": {
        "colab": {
          "base_uri": "https://localhost:8080/"
        },
        "id": "girOTorIGwFN",
        "outputId": "8652d59c-14b3-4e36-e93e-102c32e59787"
      },
      "execution_count": null,
      "outputs": [
        {
          "output_type": "stream",
          "name": "stdout",
          "text": [
            "3\n"
          ]
        }
      ]
    },
    {
      "cell_type": "markdown",
      "source": [
        "```x``` is hier de variabele naam en ```3``` is hier de waarde. \n",
        "\n",
        "__Opdracht 2__ Schrijf een Python programma dat een kort verhaal verteld. \n",
        "\n",
        "Maak hiervoor twee variabelen, waarin je de volgende gegevens in opslaat:\n",
        " \n",
        "- Een variabele voor de naam van de hoofdpersoon\n",
        "- Een variabele voor de naam van de hond\n",
        "\n",
        "Door het gebruik van de variabelen, kan kan je de naam van de hoofdpersoon en de naam van het de hond gemakkelijk aanpassen. \n",
        "\n",
        "*__Voorbeeld:__*\n",
        "\n",
        "Marie heeft een hond. <br>\n",
        "De hond heet Fifi. <br>\n",
        "Marie houdt veel van Fifi. <br>\n",
        " "
      ],
      "metadata": {
        "id": "ByxqrFxmG24n"
      }
    },
    {
      "cell_type": "code",
      "source": [
        "naam_hoofdpersoon = \"Marie\"\n",
        "naam_huisdier = \"Fifi\"\n",
        "print(naam_hoofdpersoon + \" heeft een hond.\") \n",
        "print(\"De hond heet \" + naam_huisdier + \".\")\n",
        "print(naam_hoofdpersoon + \" houdt veel van \" + naam_huisdier + \".\")"
      ],
      "metadata": {
        "colab": {
          "base_uri": "https://localhost:8080/"
        },
        "id": "NmPRTxuxHn8O",
        "outputId": "f1047993-7161-417b-adaa-820029c492a9"
      },
      "execution_count": null,
      "outputs": [
        {
          "output_type": "stream",
          "name": "stdout",
          "text": [
            "Marie heeft een hond.\n",
            "De hond heet Fifi.\n",
            "Marie houdt veel van Fifi.\n"
          ]
        }
      ]
    },
    {
      "cell_type": "code",
      "source": [
        "#Voeg hieronder de Python code toe voor Opdracht 2\n",
        "naam_hoofdpersoon = \"Hans\"\n",
        "naam_huisdier = \"Jelle\"\n",
        "print(naam_hoofdpersoon + \" heeft een hond.\") \n",
        "print(\"De hond heet \" + naam_huisdier + \".\")\n",
        "print(naam_hoofdpersoon + \" houdt veel van \" + naam_huisdier + \".\")"
      ],
      "metadata": {
        "id": "GT222DxUTauS",
        "colab": {
          "base_uri": "https://localhost:8080/"
        },
        "outputId": "85a24f6b-c233-4a73-8170-0b7afd2d60d3"
      },
      "execution_count": null,
      "outputs": [
        {
          "output_type": "stream",
          "name": "stdout",
          "text": [
            "Hans heeft een hond.\n",
            "De hond heet Jelle.\n",
            "Hans houdt veel van Jelle.\n"
          ]
        }
      ]
    },
    {
      "cell_type": "markdown",
      "source": [
        "🔔 Merk op dat er soms een extra spatie nodig is in het ```String``` gedeelte van de geprinte tekst: ```print(naam_hoofdpersoon + \" heeft een hond.\")```\n",
        "\n",
        "🔔 Heeft de naam van de variabele meerdere woorden, gebruik dan een van de volgende naamgevingsconventies:\n",
        "\n",
        "- Snake case: gebruik tussen elk woord een laag streepje ```_```, bijvoorbeeld ```naam_huisdier```.\n",
        "- Pascal case : Start elk woord met een hoofdletter, bijvoorbeeld ```NaamHuisdier```."
      ],
      "metadata": {
        "id": "ogma21GKOP2G"
      }
    },
    {
      "cell_type": "markdown",
      "source": [
        "## 3. Expressies\n",
        "\n",
        "Een expressie kan gezien worden als een soort van berekening, die je ook kan uitvoeren met een rekenmachine. Om een berekening te maken kan je, bijvoorbeeld, twee waardes combineren met behulp van operator. Veelgebruikte operatoren zijn: \n",
        "\n",
        "| Operator | Beschrijving      |\n",
        "|----------|-------------------|\n",
        "| +        | Optelling         |  \n",
        "| -        | Aftrekking        |\n",
        "| *        | Vermenigvuldiging |   \n",
        "| /        | Deling            |   \n",
        "| //       | Integer deling    |   \n",
        "| **       | Machtsverheffing   |   \n",
        "| %        | Modulo            |  \n",
        "\n",
        "Veel van deze operatoren zullen je bekend voorkomen. De modulo is waarschijnlijk nieuw voor je. \n",
        "\n",
        "'De modulo-functie is de functie die bij deling (van gehele getallen door gehele getallen) de rest geeft' ([Bron](https://www.wisfaq.nl/show3archive.asp?id=35335&j=2005)).\n",
        "\n",
        "Bijvoorbeeld, wanneer je 15 modulo (```%```) 4 uitrekend, dan houdt je 3 over. Het getal 4 past namelijk 3 keer in het getal 15.  \n",
        "\n",
        "\n",
        "\n"
      ],
      "metadata": {
        "id": "cV7Ja5OJu2VJ"
      }
    },
    {
      "cell_type": "code",
      "source": [
        "print(15 % 4)"
      ],
      "metadata": {
        "colab": {
          "base_uri": "https://localhost:8080/"
        },
        "id": "KXDuduMQUVaw",
        "outputId": "bc819c72-65ce-4d5b-eb72-62ceb63a67de"
      },
      "execution_count": null,
      "outputs": [
        {
          "output_type": "stream",
          "name": "stdout",
          "text": [
            "3\n"
          ]
        }
      ]
    },
    {
      "cell_type": "markdown",
      "source": [
        "\n",
        "__Opdracht 3__ Schrijf een Python programma dat rekensommen kan oplossen.\n",
        "\n",
        "Maak drie variabelen, elk met een getal. Tel de waardes van de eerst twee variabelen bij elkaar op en deel dat daarna door het derde getal. Tot slot, gebruik de ```print()``` functie om de uitkomst van de berekening in het notebook te tonen. "
      ],
      "metadata": {
        "id": "F2xN-17Ma_Wx"
      }
    },
    {
      "cell_type": "code",
      "source": [
        "#Voeg hieronder de Python code toe voor Opdracht 3\n",
        "a = 1\n",
        "b = 4\n",
        "c = 2\n",
        "\n",
        "print((a + b) / c)"
      ],
      "metadata": {
        "id": "Xwip1dyUbJeS",
        "colab": {
          "base_uri": "https://localhost:8080/"
        },
        "outputId": "d9c625fa-12f0-4d60-b1ad-7f347597f1e9"
      },
      "execution_count": null,
      "outputs": [
        {
          "output_type": "stream",
          "name": "stdout",
          "text": [
            "2.5\n"
          ]
        }
      ]
    },
    {
      "cell_type": "markdown",
      "source": [
        "## 4. Condities\n",
        "\n",
        "Om een computer een taak succesvol uit te laten voeren, moet de programeur duidelijke, stap-voor-stap, instructies schrijven in een taal, die de computer begrijpt. Vaak zijn er instructies, die je alleen wilt uitvoeren onder bepaalde omstandigheden. Om dit te bewerkstelligen kan een programmeur bepaalde condities, of conditionele statements toevoegen aan het computer programma. \n",
        "\n",
        "> Een conditioneel statement, vaak een 'if'-statement genoemd, bestaat uit een test en één of\n",
        "meerdere acties. De test is een zogeheten 'boolean expressie'. De acties worden alleen uitgevoerd als de test evalueert als zijnde 'waar'. Bijvoorbeeld, een app op een smartphone kan een waarschuwing geven als de batterij minder dan 5% vol is. Dat betekent dat de app test of een zekere variabele batterij_energie kleiner is dan 5, dus of de vergelijking batterij_energie < 5 als zijnde 'waar' geëvalueerd wordt. Als de variabele momenteel de waarde 17 bevat, evalueert de test batterij_energie < 5 als zijnde 'onwaar'. De meestgebruikte boolean expressies zijn vergelijkingen. Een vergelijking bestaat uit twee\n",
        "waardes met een vergelijkingsoperator ertussen ([Bron](https://www.spronck.net/pythonbook/pythonboek.pdf)). \n",
        "\n",
        "| Operator | Beschrijving              |\n",
        "|----------|---------------------------|\n",
        "| <        | Kleiner dan               |  \n",
        "| <=       | Kleiner dan of gelijk aan |\n",
        "| ==       | Gelijk aan                |   \n",
        "| >=       | Groter dan of gelijk aan  |   \n",
        "| >        | Groter dan                |   \n",
        "| !=       | Niet gelijk aan           |   \n",
        "\n",
        "🔔 Gebruik ```==``` wanneer je wil vragen of iets gelijk is, gebruik ```=``` wanneer je iets wil toekennen. Bijvoorbeeld, een waarde aan een variabele.\n",
        "\n",
        "Een simpel voorbeeld van een if-else constructie:"
      ],
      "metadata": {
        "id": "e0yt5vGyTkRq"
      }
    },
    {
      "cell_type": "code",
      "source": [
        "lengte = 118\n",
        "\n",
        "if lengte < 120:\n",
        "  print(\"Je voldoet niet aan de gestelde lengte eis voor deze attractie.\")\n",
        "else:\n",
        "  print(\"Je voldoet aan de gestelde lengte eis voor deze attractie.\")"
      ],
      "metadata": {
        "colab": {
          "base_uri": "https://localhost:8080/"
        },
        "id": "lRreSNEJFCmE",
        "outputId": "b58a94e4-462d-4167-e062-0f39d549d644"
      },
      "execution_count": null,
      "outputs": [
        {
          "output_type": "stream",
          "name": "stdout",
          "text": [
            "Je voldoet niet aan de gestelde lengte eis voor deze attractie.\n"
          ]
        }
      ]
    },
    {
      "cell_type": "markdown",
      "source": [
        "Als de persoon kleiner dan 120 cm is (of te wel lengte < 120 is 'waar') print het programma \"Je voldoet niet aan de gestelde lengte eis voor deze attractie.\". Als de persoon 120 cm of groter is (of te wel lengte < 120 is 'onwaar') print het programma \"Je voldoet aan de gestelde lengte eis voor deze attractie.\". "
      ],
      "metadata": {
        "id": "nclfSU_wZj9n"
      }
    },
    {
      "cell_type": "markdown",
      "source": [
        "__Opdracht 4a__ Schrijf een computer programma, die een leeftijdscheck uitvoerd voor een online drankhandel.\n",
        "\n",
        "Als de persoon 18 jaar of ouder is print het programma \"Welkom!\". Als de persoon jonger is dan 18 jaar print het programma \"Wij verkopen geen alcoholhoudende dranken aan jongeren onder de 18 jaar.\"."
      ],
      "metadata": {
        "id": "r5hUoUjKG6ZP"
      }
    },
    {
      "cell_type": "code",
      "source": [
        "#Voeg hieronder de Python code toe voor Opdracht 4a\n",
        "leeftijd = 17\n",
        "\n",
        "if leeftijd >= 18:\n",
        "  print(\"Welkom!\")\n",
        "else:\n",
        "  print(\"Wij verkopen geen alcoholhoudende dranken aan jongeren onder de 18 jaar.\")"
      ],
      "metadata": {
        "id": "rQyGapERd1xa",
        "colab": {
          "base_uri": "https://localhost:8080/"
        },
        "outputId": "8cab8c2d-441c-4ed3-cc27-1870fc02031b"
      },
      "execution_count": null,
      "outputs": [
        {
          "output_type": "stream",
          "name": "stdout",
          "text": [
            "Wij verkopen geen alcoholhoudende dranken aan jongeren onder de 18 jaar.\n"
          ]
        }
      ]
    },
    {
      "cell_type": "markdown",
      "source": [
        "__Opdracht 4b (Optioneel)__ Schrijf een Python programma dat oneven van even getallen kan onderscheiden.  \n",
        "\n",
        "Het programma krijgt als invoer een variabele met een heel getal, of wel een ```Integer```. Bij een oneven getal print het programma \"Oneven\" uit, bij een even getal print het programma \"Even\" uit."
      ],
      "metadata": {
        "id": "jvnlRkdcjy1c"
      }
    },
    {
      "cell_type": "code",
      "source": [
        "#Voeg hieronder de Python code toe voor Opdracht 4b\n",
        "getal = 4\n",
        "\n",
        "if getal % 2 == 0:\n",
        "  print(\"Even\")\n",
        "else:\n",
        "  print(\"Oneven\")"
      ],
      "metadata": {
        "colab": {
          "base_uri": "https://localhost:8080/"
        },
        "id": "R_lkFH5PkZzU",
        "outputId": "411acabd-669e-4036-9bca-f01369674bcd"
      },
      "execution_count": null,
      "outputs": [
        {
          "output_type": "stream",
          "name": "stdout",
          "text": [
            "Even\n"
          ]
        }
      ]
    }
  ]
}